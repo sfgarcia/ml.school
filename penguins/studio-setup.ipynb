{
 "cells": [
  {
   "cell_type": "markdown",
   "id": "00b7ba7b-433c-463c-8e5e-8b975a5be463",
   "metadata": {
    "tags": []
   },
   "source": [
    "# Setting up SageMaker Studio\n",
    "\n",
    "Use this notebook to setup SageMaker Studio. You only need to go through the code here once.\n",
    "\n",
    "This notebook is part of the [Machine Learning School](https://www.ml.school) program."
   ]
  },
  {
   "cell_type": "markdown",
   "id": "78e86c92-8c57-4b4c-b6a8-1b8246dedf2a",
   "metadata": {},
   "source": [
    "<div class=\"alert\" style=\"background-color:#6e420c; color: #fff\"><strong>Note:</strong> \n",
    "    Update the following constants with your SageMaker <strong>Domain Id</strong> and <strong>User Profile</strong>. You can find them in your Amazon SageMaker dashboard under \"Domains\".\n",
    "</div>"
   ]
  },
  {
   "cell_type": "code",
   "execution_count": 1,
   "id": "9e7cca6b-3ed1-4dfb-a570-a9d40eb531e0",
   "metadata": {
    "tags": []
   },
   "outputs": [],
   "source": [
    "DOMAIN_ID = \"d-cykvbm78rbfc\"\n",
    "USER_PROFILE = \"sfgarcia\""
   ]
  },
  {
   "cell_type": "markdown",
   "id": "843c0a29-57b3-4bb0-bb12-0c0225938ba7",
   "metadata": {
    "tags": []
   },
   "source": [
    "## Step 1 - Permissions \n",
    "\n",
    "To run the notebooks we use during the program, you need to update the Execution Policy assigned to SageMaker's Execution Role and add the appropriate permissions.\n",
    "\n",
    "The following cell displays the name of Execution Role you are currently using."
   ]
  },
  {
   "cell_type": "code",
   "execution_count": 2,
   "id": "099706c2-b9a8-471e-a21d-3a132febc184",
   "metadata": {
    "tags": []
   },
   "outputs": [
    {
     "name": "stdout",
     "output_type": "stream",
     "text": [
      "sagemaker.config INFO - Not applying SDK defaults from location: /Library/Application Support/sagemaker/config.yaml\n",
      "sagemaker.config INFO - Not applying SDK defaults from location: /Users/sgarciv/Library/Application Support/sagemaker/config.yaml\n",
      "sagemaker.config INFO - Not applying SDK defaults from location: /Library/Application Support/sagemaker/config.yaml\n",
      "sagemaker.config INFO - Not applying SDK defaults from location: /Users/sgarciv/Library/Application Support/sagemaker/config.yaml\n"
     ]
    },
    {
     "data": {
      "text/plain": [
       "'arn:aws:iam::621254586315:role/aws-reserved/sso.amazonaws.com/AWSReservedSSO_dataEng-dataDevelopment_67ffc437ee2f9afb'"
      ]
     },
     "execution_count": 2,
     "metadata": {},
     "output_type": "execute_result"
    }
   ],
   "source": [
    "import sagemaker\n",
    "\n",
    "role = sagemaker.get_execution_role()\n",
    "role"
   ]
  },
  {
   "cell_type": "markdown",
   "id": "46bc8e33-ea4f-4219-8501-1decad22653a",
   "metadata": {},
   "source": [
    "<div class=\"alert\" style=\"background-color:#6e420c; color: #fff\"><strong>Note:</strong> \n",
    "    Open the Amazon IAM service, find the role and edit the custom Execution Policy assigned to it. You can edit the permissions of the Execution Policy and use the following definition:\n",
    "</div>\n",
    "\n",
    "\n",
    "\n",
    "```json\n",
    "{\n",
    "    \"Version\": \"2012-10-17\",\n",
    "    \"Statement\": [\n",
    "        {\n",
    "            \"Sid\": \"IAM0\",\n",
    "            \"Effect\": \"Allow\",\n",
    "            \"Action\": [\n",
    "                \"iam:CreateServiceLinkedRole\"\n",
    "            ],\n",
    "            \"Resource\": \"*\",\n",
    "            \"Condition\": {\n",
    "                \"StringEquals\": {\n",
    "                    \"iam:AWSServiceName\": [\n",
    "                        \"autoscaling.amazonaws.com\",\n",
    "                        \"ec2scheduled.amazonaws.com\",\n",
    "                        \"elasticloadbalancing.amazonaws.com\",\n",
    "                        \"spot.amazonaws.com\",\n",
    "                        \"spotfleet.amazonaws.com\",\n",
    "                        \"transitgateway.amazonaws.com\"\n",
    "                    ]\n",
    "                }\n",
    "            }\n",
    "        },\n",
    "        {\n",
    "            \"Sid\": \"IAM1\",\n",
    "            \"Effect\": \"Allow\",\n",
    "            \"Action\": [\n",
    "                \"iam:CreateRole\",\n",
    "                \"iam:DeleteRole\",\n",
    "                \"iam:PassRole\",\n",
    "                \"iam:AttachRolePolicy\",\n",
    "                \"iam:DetachRolePolicy\",\n",
    "                \"iam:CreatePolicy\"\n",
    "            ],\n",
    "            \"Resource\": \"*\"\n",
    "        },\n",
    "        {\n",
    "            \"Sid\": \"Lambda\",\n",
    "            \"Effect\": \"Allow\",\n",
    "            \"Action\": [\n",
    "                \"lambda:CreateFunction\",\n",
    "                \"lambda:DeleteFunction\",\n",
    "                \"lambda:InvokeFunctionUrl\",\n",
    "                \"lambda:InvokeFunction\",\n",
    "                \"lambda:UpdateFunctionCode\",\n",
    "                \"lambda:InvokeAsync\",\n",
    "                \"lambda:AddPermission\",\n",
    "                \"lambda:RemovePermission\"\n",
    "            ],\n",
    "            \"Resource\": \"*\"\n",
    "        },\n",
    "        {\n",
    "            \"Sid\": \"SageMaker\",\n",
    "            \"Effect\": \"Allow\",\n",
    "            \"Action\": [\n",
    "                \"sagemaker:UpdateDomain\",\n",
    "                \"sagemaker:UpdateUserProfile\"\n",
    "            ],\n",
    "            \"Resource\": \"*\"\n",
    "        },\n",
    "        {\n",
    "            \"Sid\": \"CloudWatch\",\n",
    "            \"Effect\": \"Allow\",\n",
    "            \"Action\": [\n",
    "                \"cloudwatch:PutMetricData\",\n",
    "                \"cloudwatch:GetMetricData\",\n",
    "                \"cloudwatch:DescribeAlarmsForMetric\",\n",
    "                \"logs:CreateLogStream\",\n",
    "                \"logs:PutLogEvents\",\n",
    "                \"logs:CreateLogGroup\",\n",
    "                \"logs:DescribeLogStreams\"\n",
    "            ],\n",
    "            \"Resource\": \"*\"\n",
    "        },\n",
    "        {\n",
    "            \"Sid\": \"ECR\",\n",
    "            \"Effect\": \"Allow\",\n",
    "            \"Action\": [\n",
    "                \"ecr:GetAuthorizationToken\",\n",
    "                \"ecr:BatchCheckLayerAvailability\",\n",
    "                \"ecr:GetDownloadUrlForLayer\",\n",
    "                \"ecr:BatchGetImage\"\n",
    "            ],\n",
    "            \"Resource\": \"*\"\n",
    "        },\n",
    "        {\n",
    "            \"Sid\": \"S3\",\n",
    "            \"Effect\": \"Allow\",\n",
    "            \"Action\": [\n",
    "                \"s3:CreateBucket\",\n",
    "                \"s3:ListBucket\",\n",
    "                \"s3:GetBucketLocation\",\n",
    "                \"s3:PutObject\",\n",
    "                \"s3:GetObject\",\n",
    "                \"s3:DeleteObject\"\n",
    "            ],\n",
    "            \"Resource\": \"arn:aws:s3:::*\"\n",
    "        },\n",
    "        {\n",
    "            \"Sid\": \"EventBridge\",\n",
    "            \"Effect\": \"Allow\",\n",
    "            \"Action\": [\n",
    "                \"events:PutRule\",\n",
    "                \"events:PutTargets\"\n",
    "            ],\n",
    "            \"Resource\": \"*\"\n",
    "        }\n",
    "    ]\n",
    "}\n",
    "```"
   ]
  },
  {
   "cell_type": "markdown",
   "id": "018a9140-93d0-400e-846f-ccbd1d17355a",
   "metadata": {},
   "source": [
    "<div class=\"alert\" style=\"background-color:#6e420c; color: #fff\"><strong>Note:</strong> \n",
    "    Open the Amazon IAM service, find the role, go to the \"Trust relationships\" section and edit the configuration using the JSON below. Here, we want to ensure we have the \"events.amazonaws.com\" as part of the list of services.\n",
    "</div>\n",
    "\n",
    "\n",
    "```json\n",
    "{\n",
    "\t\"Version\": \"2012-10-17\",\n",
    "\t\"Statement\": [\n",
    "\t\t{\n",
    "\t\t\t\"Effect\": \"Allow\",\n",
    "\t\t\t\"Principal\": {\n",
    "\t\t\t\t\"Service\": [\n",
    "                    \"sagemaker.amazonaws.com\", \n",
    "                    \"events.amazonaws.com\"\n",
    "                ]\n",
    "\t\t\t},\n",
    "\t\t\t\"Action\": \"sts:AssumeRole\"\n",
    "\t\t}\n",
    "\t]\n",
    "}\n",
    "```"
   ]
  },
  {
   "cell_type": "markdown",
   "id": "db6203b0-5a40-4a14-b9bb-6e092f1bb2e7",
   "metadata": {
    "tags": []
   },
   "source": [
    "## Step 2 - Lifecycle Configuration\n",
    "\n",
    "You can customize SageMaker Studio using Lifecycle configurations. These are shell scripts that will be triggered by lifecycle events, such as starting a new Studio notebook.\n",
    "\n",
    "The following script upgrades the packages on a SageMaker Studio Kernel Application."
   ]
  },
  {
   "cell_type": "code",
   "execution_count": 3,
   "id": "00311496-3a75-4a04-880b-4301a21cb259",
   "metadata": {
    "tags": []
   },
   "outputs": [
    {
     "name": "stdout",
     "output_type": "stream",
     "text": [
      "Writing packages.sh\n"
     ]
    }
   ],
   "source": [
    "%%writefile packages.sh\n",
    "\n",
    "#!/bin/bash\n",
    "# This script upgrades the packages on a SageMaker \n",
    "# Studio Kernel Application.\n",
    "\n",
    "set -eux\n",
    "\n",
    "pip install -q --upgrade pip\n",
    "pip install -q --upgrade awscli boto3\n",
    "pip install -q --upgrade scikit-learn==1.3.1\n",
    "pip install -q --upgrade PyYAML==6.0\n",
    "pip install -q --upgrade sagemaker\n",
    "pip install -q --upgrade ipytest"
   ]
  },
  {
   "cell_type": "markdown",
   "id": "8e640493-d540-40ba-8147-f0094f46ac13",
   "metadata": {},
   "source": [
    "We can now create a new lifecycle configuration."
   ]
  },
  {
   "cell_type": "code",
   "execution_count": 5,
   "id": "c7b41df5-d6e7-4abe-a04d-8d390a3dea4f",
   "metadata": {
    "tags": []
   },
   "outputs": [
    {
     "name": "stdout",
     "output_type": "stream",
     "text": [
      "arn:aws:sagemaker:us-east-1:325223348818:studio-lifecycle-config/packages\n",
      "{\n",
      "    \"UserProfileArn\": \"arn:aws:sagemaker:us-east-1:325223348818:user-profile/d-givocgtibv1g/default-1682182522641\"\n",
      "}\n"
     ]
    }
   ],
   "source": [
    "%%bash -s \"$DOMAIN_ID\" \"$USER_PROFILE\"\n",
    "\n",
    "DOMAIN_ID=$(echo \"$1\")\n",
    "USER_PROFILE=$(echo \"$2\")\n",
    "\n",
    "LCC_CONTENT=`openssl base64 -A -in packages.sh`\n",
    "\n",
    "aws sagemaker delete-studio-lifecycle-config \\\n",
    "    --studio-lifecycle-config-name packages\n",
    "\n",
    "response=$(aws sagemaker create-studio-lifecycle-config \\\n",
    "    --studio-lifecycle-config-name packages \\\n",
    "    --studio-lifecycle-config-content $LCC_CONTENT \\\n",
    "    --studio-lifecycle-config-app-type KernelGateway) \n",
    "\n",
    "arn=$(echo \"${response}\" | python3 -c \"import sys, json; print(json.load(sys.stdin)['StudioLifecycleConfigArn'])\")\n",
    "echo \"${arn}\"\n",
    "\n",
    "aws sagemaker update-user-profile --domain-id $DOMAIN_ID \\\n",
    "    --user-profile-name $USER_PROFILE \\\n",
    "    --user-settings '{\n",
    "        \"KernelGatewayAppSettings\": {\n",
    "            \"LifecycleConfigArns\": [\"'$arn'\"]\n",
    "        }\n",
    "    }'"
   ]
  },
  {
   "cell_type": "markdown",
   "id": "b42c75df-6592-47ac-867a-1ab0955e1653",
   "metadata": {},
   "source": [
    "The following script configures auto-shutdown of inactive kernels."
   ]
  },
  {
   "cell_type": "code",
   "execution_count": 6,
   "id": "fb2699a8-1b33-454e-8b62-9b4a2df03bef",
   "metadata": {
    "tags": []
   },
   "outputs": [
    {
     "name": "stdout",
     "output_type": "stream",
     "text": [
      "Overwriting autoshutdown.sh\n"
     ]
    }
   ],
   "source": [
    "%%writefile autoshutdown.sh\n",
    "\n",
    "#!/bin/bash\n",
    "# This script installs the idle notebook auto-checker server extension to SageMaker Studio\n",
    "# The original extension has a lab extension part where users can set the idle timeout via a Jupyter Lab widget.\n",
    "# In this version the script installs the server side of the extension only. The idle timeout\n",
    "# can be set via a command-line script which will be also created by this create and places into the\n",
    "# user's home folder\n",
    "#\n",
    "# Installing the server side extension does not require Internet connection (as all the dependencies are stored in the\n",
    "# install tarball) and can be done via VPCOnly mode.\n",
    "\n",
    "set -eux\n",
    "\n",
    "# timeout in minutes\n",
    "export TIMEOUT_IN_MINS=60\n",
    "\n",
    "# Should already be running in user home directory, but just to check:\n",
    "cd /home/sagemaker-user\n",
    "\n",
    "# By working in a directory starting with \".\", we won't clutter up users' Jupyter file tree views\n",
    "mkdir -p .auto-shutdown\n",
    "\n",
    "# Create the command-line script for setting the idle timeout\n",
    "cat > .auto-shutdown/set-time-interval.sh << EOF\n",
    "#!/opt/conda/bin/python\n",
    "import json\n",
    "import requests\n",
    "TIMEOUT=${TIMEOUT_IN_MINS}\n",
    "session = requests.Session()\n",
    "# Getting the xsrf token first from Jupyter Server\n",
    "response = session.get(\"http://localhost:8888/jupyter/default/tree\")\n",
    "# calls the idle_checker extension's interface to set the timeout value\n",
    "response = session.post(\"http://localhost:8888/jupyter/default/sagemaker-studio-autoshutdown/idle_checker\",\n",
    "            json={\"idle_time\": TIMEOUT, \"keep_terminals\": False},\n",
    "            params={\"_xsrf\": response.headers['Set-Cookie'].split(\";\")[0].split(\"=\")[1]})\n",
    "if response.status_code == 200:\n",
    "    print(\"Succeeded, idle timeout set to {} minutes\".format(TIMEOUT))\n",
    "else:\n",
    "    print(\"Error!\")\n",
    "    print(response.status_code)\n",
    "EOF\n",
    "chmod +x .auto-shutdown/set-time-interval.sh\n",
    "\n",
    "# \"wget\" is not part of the base Jupyter Server image, you need to install it first if needed to download the tarball\n",
    "sudo yum install -y wget\n",
    "# You can download the tarball from GitHub or alternatively, if you're using VPCOnly mode, you can host on S3\n",
    "wget -O .auto-shutdown/extension.tar.gz https://github.com/aws-samples/sagemaker-studio-auto-shutdown-extension/raw/main/sagemaker_studio_autoshutdown-0.1.5.tar.gz\n",
    "\n",
    "# Or instead, could serve the tarball from an S3 bucket in which case \"wget\" would not be needed:\n",
    "# aws s3 --endpoint-url [S3 Interface Endpoint] cp s3://[tarball location] .auto-shutdown/extension.tar.gz\n",
    "\n",
    "# Installs the extension\n",
    "cd .auto-shutdown\n",
    "tar xzf extension.tar.gz\n",
    "cd sagemaker_studio_autoshutdown-0.1.5\n",
    "\n",
    "# Activate studio environment just for installing extension\n",
    "export AWS_SAGEMAKER_JUPYTERSERVER_IMAGE=\"${AWS_SAGEMAKER_JUPYTERSERVER_IMAGE:-'jupyter-server'}\"\n",
    "if [ \"$AWS_SAGEMAKER_JUPYTERSERVER_IMAGE\" = \"jupyter-server-3\" ] ; then\n",
    "    eval \"$(conda shell.bash hook)\"\n",
    "    conda activate studio\n",
    "fi;\n",
    "pip install --no-dependencies --no-build-isolation -e .\n",
    "jupyter serverextension enable --py sagemaker_studio_autoshutdown\n",
    "if [ \"$AWS_SAGEMAKER_JUPYTERSERVER_IMAGE\" = \"jupyter-server-3\" ] ; then\n",
    "    conda deactivate\n",
    "fi;\n",
    "\n",
    "# Restarts the jupyter server\n",
    "nohup supervisorctl -c /etc/supervisor/conf.d/supervisord.conf restart jupyterlabserver\n",
    "\n",
    "# Waiting for 30 seconds to make sure the Jupyter Server is up and running\n",
    "sleep 30\n",
    "\n",
    "# Calling the script to set the idle-timeout and active the extension\n",
    "/home/sagemaker-user/.auto-shutdown/set-time-interval.sh"
   ]
  },
  {
   "cell_type": "markdown",
   "id": "a9c4f441-d8e1-4ff9-8553-46272974547d",
   "metadata": {},
   "source": [
    "We can now create a new lifecycle configuration."
   ]
  },
  {
   "cell_type": "code",
   "execution_count": null,
   "id": "fe4704df-af6a-4c38-8c74-bb690c9f1066",
   "metadata": {
    "tags": []
   },
   "outputs": [],
   "source": [
    "%%bash -s \"$DOMAIN_ID\" \"$USER_PROFILE\"\n",
    "\n",
    "DOMAIN_ID=$(echo \"$1\")\n",
    "USER_PROFILE=$(echo \"$2\")\n",
    "\n",
    "LCC_CONTENT=`openssl base64 -A -in autoshutdown.sh`\n",
    "\n",
    "aws sagemaker delete-studio-lifecycle-config \\\n",
    "    --studio-lifecycle-config-name autoshutdown 2> /dev/null\n",
    "\n",
    "response=$(aws sagemaker create-studio-lifecycle-config \\\n",
    "    --studio-lifecycle-config-name autoshutdown \\\n",
    "    --studio-lifecycle-config-content $LCC_CONTENT \\\n",
    "    --studio-lifecycle-config-app-type JupyterServer) \n",
    "\n",
    "arn=$(echo \"${response}\" | python3 -c \"import sys, json; print(json.load(sys.stdin)['StudioLifecycleConfigArn'])\")\n",
    "echo \"${arn}\"\n",
    "\n",
    "aws sagemaker update-user-profile --domain-id $DOMAIN_ID \\\n",
    "    --user-profile-name $USER_PROFILE \\\n",
    "    --user-settings '{\n",
    "        \"JupyterServerAppSettings\": {\n",
    "            \"DefaultResourceSpec\": {\n",
    "                \"LifecycleConfigArn\": \"'$arn'\",\n",
    "                \"InstanceType\": \"system\"\n",
    "            },\n",
    "            \"LifecycleConfigArns\": [\"'$arn'\"]\n",
    "        }\n",
    "    }'"
   ]
  },
  {
   "cell_type": "code",
   "execution_count": null,
   "id": "85dde144-cc46-47b1-a6ed-09f6e8eafa05",
   "metadata": {},
   "outputs": [],
   "source": []
  }
 ],
 "metadata": {
  "availableInstances": [
   {
    "_defaultOrder": 0,
    "_isFastLaunch": true,
    "category": "General purpose",
    "gpuNum": 0,
    "hideHardwareSpecs": false,
    "memoryGiB": 4,
    "name": "ml.t3.medium",
    "vcpuNum": 2
   },
   {
    "_defaultOrder": 1,
    "_isFastLaunch": false,
    "category": "General purpose",
    "gpuNum": 0,
    "hideHardwareSpecs": false,
    "memoryGiB": 8,
    "name": "ml.t3.large",
    "vcpuNum": 2
   },
   {
    "_defaultOrder": 2,
    "_isFastLaunch": false,
    "category": "General purpose",
    "gpuNum": 0,
    "hideHardwareSpecs": false,
    "memoryGiB": 16,
    "name": "ml.t3.xlarge",
    "vcpuNum": 4
   },
   {
    "_defaultOrder": 3,
    "_isFastLaunch": false,
    "category": "General purpose",
    "gpuNum": 0,
    "hideHardwareSpecs": false,
    "memoryGiB": 32,
    "name": "ml.t3.2xlarge",
    "vcpuNum": 8
   },
   {
    "_defaultOrder": 4,
    "_isFastLaunch": true,
    "category": "General purpose",
    "gpuNum": 0,
    "hideHardwareSpecs": false,
    "memoryGiB": 8,
    "name": "ml.m5.large",
    "vcpuNum": 2
   },
   {
    "_defaultOrder": 5,
    "_isFastLaunch": false,
    "category": "General purpose",
    "gpuNum": 0,
    "hideHardwareSpecs": false,
    "memoryGiB": 16,
    "name": "ml.m5.xlarge",
    "vcpuNum": 4
   },
   {
    "_defaultOrder": 6,
    "_isFastLaunch": false,
    "category": "General purpose",
    "gpuNum": 0,
    "hideHardwareSpecs": false,
    "memoryGiB": 32,
    "name": "ml.m5.2xlarge",
    "vcpuNum": 8
   },
   {
    "_defaultOrder": 7,
    "_isFastLaunch": false,
    "category": "General purpose",
    "gpuNum": 0,
    "hideHardwareSpecs": false,
    "memoryGiB": 64,
    "name": "ml.m5.4xlarge",
    "vcpuNum": 16
   },
   {
    "_defaultOrder": 8,
    "_isFastLaunch": false,
    "category": "General purpose",
    "gpuNum": 0,
    "hideHardwareSpecs": false,
    "memoryGiB": 128,
    "name": "ml.m5.8xlarge",
    "vcpuNum": 32
   },
   {
    "_defaultOrder": 9,
    "_isFastLaunch": false,
    "category": "General purpose",
    "gpuNum": 0,
    "hideHardwareSpecs": false,
    "memoryGiB": 192,
    "name": "ml.m5.12xlarge",
    "vcpuNum": 48
   },
   {
    "_defaultOrder": 10,
    "_isFastLaunch": false,
    "category": "General purpose",
    "gpuNum": 0,
    "hideHardwareSpecs": false,
    "memoryGiB": 256,
    "name": "ml.m5.16xlarge",
    "vcpuNum": 64
   },
   {
    "_defaultOrder": 11,
    "_isFastLaunch": false,
    "category": "General purpose",
    "gpuNum": 0,
    "hideHardwareSpecs": false,
    "memoryGiB": 384,
    "name": "ml.m5.24xlarge",
    "vcpuNum": 96
   },
   {
    "_defaultOrder": 12,
    "_isFastLaunch": false,
    "category": "General purpose",
    "gpuNum": 0,
    "hideHardwareSpecs": false,
    "memoryGiB": 8,
    "name": "ml.m5d.large",
    "vcpuNum": 2
   },
   {
    "_defaultOrder": 13,
    "_isFastLaunch": false,
    "category": "General purpose",
    "gpuNum": 0,
    "hideHardwareSpecs": false,
    "memoryGiB": 16,
    "name": "ml.m5d.xlarge",
    "vcpuNum": 4
   },
   {
    "_defaultOrder": 14,
    "_isFastLaunch": false,
    "category": "General purpose",
    "gpuNum": 0,
    "hideHardwareSpecs": false,
    "memoryGiB": 32,
    "name": "ml.m5d.2xlarge",
    "vcpuNum": 8
   },
   {
    "_defaultOrder": 15,
    "_isFastLaunch": false,
    "category": "General purpose",
    "gpuNum": 0,
    "hideHardwareSpecs": false,
    "memoryGiB": 64,
    "name": "ml.m5d.4xlarge",
    "vcpuNum": 16
   },
   {
    "_defaultOrder": 16,
    "_isFastLaunch": false,
    "category": "General purpose",
    "gpuNum": 0,
    "hideHardwareSpecs": false,
    "memoryGiB": 128,
    "name": "ml.m5d.8xlarge",
    "vcpuNum": 32
   },
   {
    "_defaultOrder": 17,
    "_isFastLaunch": false,
    "category": "General purpose",
    "gpuNum": 0,
    "hideHardwareSpecs": false,
    "memoryGiB": 192,
    "name": "ml.m5d.12xlarge",
    "vcpuNum": 48
   },
   {
    "_defaultOrder": 18,
    "_isFastLaunch": false,
    "category": "General purpose",
    "gpuNum": 0,
    "hideHardwareSpecs": false,
    "memoryGiB": 256,
    "name": "ml.m5d.16xlarge",
    "vcpuNum": 64
   },
   {
    "_defaultOrder": 19,
    "_isFastLaunch": false,
    "category": "General purpose",
    "gpuNum": 0,
    "hideHardwareSpecs": false,
    "memoryGiB": 384,
    "name": "ml.m5d.24xlarge",
    "vcpuNum": 96
   },
   {
    "_defaultOrder": 20,
    "_isFastLaunch": false,
    "category": "General purpose",
    "gpuNum": 0,
    "hideHardwareSpecs": true,
    "memoryGiB": 0,
    "name": "ml.geospatial.interactive",
    "supportedImageNames": [
     "sagemaker-geospatial-v1-0"
    ],
    "vcpuNum": 0
   },
   {
    "_defaultOrder": 21,
    "_isFastLaunch": true,
    "category": "Compute optimized",
    "gpuNum": 0,
    "hideHardwareSpecs": false,
    "memoryGiB": 4,
    "name": "ml.c5.large",
    "vcpuNum": 2
   },
   {
    "_defaultOrder": 22,
    "_isFastLaunch": false,
    "category": "Compute optimized",
    "gpuNum": 0,
    "hideHardwareSpecs": false,
    "memoryGiB": 8,
    "name": "ml.c5.xlarge",
    "vcpuNum": 4
   },
   {
    "_defaultOrder": 23,
    "_isFastLaunch": false,
    "category": "Compute optimized",
    "gpuNum": 0,
    "hideHardwareSpecs": false,
    "memoryGiB": 16,
    "name": "ml.c5.2xlarge",
    "vcpuNum": 8
   },
   {
    "_defaultOrder": 24,
    "_isFastLaunch": false,
    "category": "Compute optimized",
    "gpuNum": 0,
    "hideHardwareSpecs": false,
    "memoryGiB": 32,
    "name": "ml.c5.4xlarge",
    "vcpuNum": 16
   },
   {
    "_defaultOrder": 25,
    "_isFastLaunch": false,
    "category": "Compute optimized",
    "gpuNum": 0,
    "hideHardwareSpecs": false,
    "memoryGiB": 72,
    "name": "ml.c5.9xlarge",
    "vcpuNum": 36
   },
   {
    "_defaultOrder": 26,
    "_isFastLaunch": false,
    "category": "Compute optimized",
    "gpuNum": 0,
    "hideHardwareSpecs": false,
    "memoryGiB": 96,
    "name": "ml.c5.12xlarge",
    "vcpuNum": 48
   },
   {
    "_defaultOrder": 27,
    "_isFastLaunch": false,
    "category": "Compute optimized",
    "gpuNum": 0,
    "hideHardwareSpecs": false,
    "memoryGiB": 144,
    "name": "ml.c5.18xlarge",
    "vcpuNum": 72
   },
   {
    "_defaultOrder": 28,
    "_isFastLaunch": false,
    "category": "Compute optimized",
    "gpuNum": 0,
    "hideHardwareSpecs": false,
    "memoryGiB": 192,
    "name": "ml.c5.24xlarge",
    "vcpuNum": 96
   },
   {
    "_defaultOrder": 29,
    "_isFastLaunch": true,
    "category": "Accelerated computing",
    "gpuNum": 1,
    "hideHardwareSpecs": false,
    "memoryGiB": 16,
    "name": "ml.g4dn.xlarge",
    "vcpuNum": 4
   },
   {
    "_defaultOrder": 30,
    "_isFastLaunch": false,
    "category": "Accelerated computing",
    "gpuNum": 1,
    "hideHardwareSpecs": false,
    "memoryGiB": 32,
    "name": "ml.g4dn.2xlarge",
    "vcpuNum": 8
   },
   {
    "_defaultOrder": 31,
    "_isFastLaunch": false,
    "category": "Accelerated computing",
    "gpuNum": 1,
    "hideHardwareSpecs": false,
    "memoryGiB": 64,
    "name": "ml.g4dn.4xlarge",
    "vcpuNum": 16
   },
   {
    "_defaultOrder": 32,
    "_isFastLaunch": false,
    "category": "Accelerated computing",
    "gpuNum": 1,
    "hideHardwareSpecs": false,
    "memoryGiB": 128,
    "name": "ml.g4dn.8xlarge",
    "vcpuNum": 32
   },
   {
    "_defaultOrder": 33,
    "_isFastLaunch": false,
    "category": "Accelerated computing",
    "gpuNum": 4,
    "hideHardwareSpecs": false,
    "memoryGiB": 192,
    "name": "ml.g4dn.12xlarge",
    "vcpuNum": 48
   },
   {
    "_defaultOrder": 34,
    "_isFastLaunch": false,
    "category": "Accelerated computing",
    "gpuNum": 1,
    "hideHardwareSpecs": false,
    "memoryGiB": 256,
    "name": "ml.g4dn.16xlarge",
    "vcpuNum": 64
   },
   {
    "_defaultOrder": 35,
    "_isFastLaunch": false,
    "category": "Accelerated computing",
    "gpuNum": 1,
    "hideHardwareSpecs": false,
    "memoryGiB": 61,
    "name": "ml.p3.2xlarge",
    "vcpuNum": 8
   },
   {
    "_defaultOrder": 36,
    "_isFastLaunch": false,
    "category": "Accelerated computing",
    "gpuNum": 4,
    "hideHardwareSpecs": false,
    "memoryGiB": 244,
    "name": "ml.p3.8xlarge",
    "vcpuNum": 32
   },
   {
    "_defaultOrder": 37,
    "_isFastLaunch": false,
    "category": "Accelerated computing",
    "gpuNum": 8,
    "hideHardwareSpecs": false,
    "memoryGiB": 488,
    "name": "ml.p3.16xlarge",
    "vcpuNum": 64
   },
   {
    "_defaultOrder": 38,
    "_isFastLaunch": false,
    "category": "Accelerated computing",
    "gpuNum": 8,
    "hideHardwareSpecs": false,
    "memoryGiB": 768,
    "name": "ml.p3dn.24xlarge",
    "vcpuNum": 96
   },
   {
    "_defaultOrder": 39,
    "_isFastLaunch": false,
    "category": "Memory Optimized",
    "gpuNum": 0,
    "hideHardwareSpecs": false,
    "memoryGiB": 16,
    "name": "ml.r5.large",
    "vcpuNum": 2
   },
   {
    "_defaultOrder": 40,
    "_isFastLaunch": false,
    "category": "Memory Optimized",
    "gpuNum": 0,
    "hideHardwareSpecs": false,
    "memoryGiB": 32,
    "name": "ml.r5.xlarge",
    "vcpuNum": 4
   },
   {
    "_defaultOrder": 41,
    "_isFastLaunch": false,
    "category": "Memory Optimized",
    "gpuNum": 0,
    "hideHardwareSpecs": false,
    "memoryGiB": 64,
    "name": "ml.r5.2xlarge",
    "vcpuNum": 8
   },
   {
    "_defaultOrder": 42,
    "_isFastLaunch": false,
    "category": "Memory Optimized",
    "gpuNum": 0,
    "hideHardwareSpecs": false,
    "memoryGiB": 128,
    "name": "ml.r5.4xlarge",
    "vcpuNum": 16
   },
   {
    "_defaultOrder": 43,
    "_isFastLaunch": false,
    "category": "Memory Optimized",
    "gpuNum": 0,
    "hideHardwareSpecs": false,
    "memoryGiB": 256,
    "name": "ml.r5.8xlarge",
    "vcpuNum": 32
   },
   {
    "_defaultOrder": 44,
    "_isFastLaunch": false,
    "category": "Memory Optimized",
    "gpuNum": 0,
    "hideHardwareSpecs": false,
    "memoryGiB": 384,
    "name": "ml.r5.12xlarge",
    "vcpuNum": 48
   },
   {
    "_defaultOrder": 45,
    "_isFastLaunch": false,
    "category": "Memory Optimized",
    "gpuNum": 0,
    "hideHardwareSpecs": false,
    "memoryGiB": 512,
    "name": "ml.r5.16xlarge",
    "vcpuNum": 64
   },
   {
    "_defaultOrder": 46,
    "_isFastLaunch": false,
    "category": "Memory Optimized",
    "gpuNum": 0,
    "hideHardwareSpecs": false,
    "memoryGiB": 768,
    "name": "ml.r5.24xlarge",
    "vcpuNum": 96
   },
   {
    "_defaultOrder": 47,
    "_isFastLaunch": false,
    "category": "Accelerated computing",
    "gpuNum": 1,
    "hideHardwareSpecs": false,
    "memoryGiB": 16,
    "name": "ml.g5.xlarge",
    "vcpuNum": 4
   },
   {
    "_defaultOrder": 48,
    "_isFastLaunch": false,
    "category": "Accelerated computing",
    "gpuNum": 1,
    "hideHardwareSpecs": false,
    "memoryGiB": 32,
    "name": "ml.g5.2xlarge",
    "vcpuNum": 8
   },
   {
    "_defaultOrder": 49,
    "_isFastLaunch": false,
    "category": "Accelerated computing",
    "gpuNum": 1,
    "hideHardwareSpecs": false,
    "memoryGiB": 64,
    "name": "ml.g5.4xlarge",
    "vcpuNum": 16
   },
   {
    "_defaultOrder": 50,
    "_isFastLaunch": false,
    "category": "Accelerated computing",
    "gpuNum": 1,
    "hideHardwareSpecs": false,
    "memoryGiB": 128,
    "name": "ml.g5.8xlarge",
    "vcpuNum": 32
   },
   {
    "_defaultOrder": 51,
    "_isFastLaunch": false,
    "category": "Accelerated computing",
    "gpuNum": 1,
    "hideHardwareSpecs": false,
    "memoryGiB": 256,
    "name": "ml.g5.16xlarge",
    "vcpuNum": 64
   },
   {
    "_defaultOrder": 52,
    "_isFastLaunch": false,
    "category": "Accelerated computing",
    "gpuNum": 4,
    "hideHardwareSpecs": false,
    "memoryGiB": 192,
    "name": "ml.g5.12xlarge",
    "vcpuNum": 48
   },
   {
    "_defaultOrder": 53,
    "_isFastLaunch": false,
    "category": "Accelerated computing",
    "gpuNum": 4,
    "hideHardwareSpecs": false,
    "memoryGiB": 384,
    "name": "ml.g5.24xlarge",
    "vcpuNum": 96
   },
   {
    "_defaultOrder": 54,
    "_isFastLaunch": false,
    "category": "Accelerated computing",
    "gpuNum": 8,
    "hideHardwareSpecs": false,
    "memoryGiB": 768,
    "name": "ml.g5.48xlarge",
    "vcpuNum": 192
   },
   {
    "_defaultOrder": 55,
    "_isFastLaunch": false,
    "category": "Accelerated computing",
    "gpuNum": 8,
    "hideHardwareSpecs": false,
    "memoryGiB": 1152,
    "name": "ml.p4d.24xlarge",
    "vcpuNum": 96
   },
   {
    "_defaultOrder": 56,
    "_isFastLaunch": false,
    "category": "Accelerated computing",
    "gpuNum": 8,
    "hideHardwareSpecs": false,
    "memoryGiB": 1152,
    "name": "ml.p4de.24xlarge",
    "vcpuNum": 96
   }
  ],
  "kernelspec": {
   "display_name": ".venv_ml_school",
   "language": "python",
   "name": "python3"
  },
  "language_info": {
   "codemirror_mode": {
    "name": "ipython",
    "version": 3
   },
   "file_extension": ".py",
   "mimetype": "text/x-python",
   "name": "python",
   "nbconvert_exporter": "python",
   "pygments_lexer": "ipython3",
   "version": "3.9.12"
  },
  "toc-autonumbering": false,
  "toc-showcode": false,
  "toc-showmarkdowntxt": false
 },
 "nbformat": 4,
 "nbformat_minor": 5
}
