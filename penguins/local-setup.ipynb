{
 "cells": [
  {
   "cell_type": "markdown",
   "metadata": {},
   "source": [
    "# Local Mode Setup\n",
    "\n",
    "Use this notebook to setup your local environment.\n",
    "\n",
    "Here is a summary of the steps you need to follow:\n",
    "\n",
    "1. Create a virtual environment where you will install the required libraries. You want to configure the kernel of your notebook to use this virtual environment\n",
    "\n",
    "   ```bash\n",
    "   $ python3 -m venv .venv\n",
    "   $ source .venv/bin/activate\n",
    "   ```\n",
    "   \n",
    "2. Make sure you have Docker Desktop installed and running on your computer:\n",
    "\n",
    "   `$ docker ps`\n",
    "\n",
    "3. [Install the AWS CLI](https://docs.aws.amazon.com/cli/latest/userguide/getting-started-install.html) and [configure it with your credentials](https://docs.aws.amazon.com/cli/latest/userguide/getting-started-quickstart.html).\n",
    "\n",
    "4. Run this notebook to install the required libraries in your virtual environment.\n",
    "\n",
    "This notebook is part of the [Machine Learning School](https://www.ml.school) program."
   ]
  },
  {
   "cell_type": "code",
   "execution_count": 1,
   "metadata": {},
   "outputs": [],
   "source": [
    "%load_ext autoreload\n",
    "%autoreload 2\n",
    "\n",
    "import sys\n",
    "from pathlib import Path\n",
    "\n",
    "CODE_FOLDER = Path(\"code\")\n",
    "CODE_FOLDER.mkdir(parents=True, exist_ok=True)\n",
    "\n",
    "sys.path.append(f\"./{CODE_FOLDER}\")"
   ]
  },
  {
   "cell_type": "markdown",
   "metadata": {},
   "source": [
    "Let's create a `requirements.txt` file with the libraries we need to install to run the notebooks."
   ]
  },
  {
   "cell_type": "code",
   "execution_count": 2,
   "metadata": {},
   "outputs": [
    {
     "name": "stdout",
     "output_type": "stream",
     "text": [
      "Writing code/requirements.txt\n"
     ]
    }
   ],
   "source": [
    "%%writefile {CODE_FOLDER}/requirements.txt\n",
    "\n",
    "numpy\n",
    "pandas\n",
    "scikit-learn\n",
    "plotly\n",
    "ipytest\n",
    "tensorflow\n",
    "sagemaker\n",
    "sagemaker[local]"
   ]
  },
  {
   "cell_type": "markdown",
   "metadata": {},
   "source": [
    "We can now install the libraries in our virtual environment. Make sure the kernel of this notebook is set to the virtual environment you created."
   ]
  },
  {
   "cell_type": "code",
   "execution_count": 3,
   "metadata": {},
   "outputs": [
    {
     "name": "stdout",
     "output_type": "stream",
     "text": [
      "\u001b[33mWARNING: There was an error checking the latest version of pip.\u001b[0m\u001b[33m\n",
      "\u001b[0m\u001b[33mWARNING: There was an error checking the latest version of pip.\u001b[0m\u001b[33m\n",
      "\u001b[0m"
     ]
    }
   ],
   "source": [
    "!pip install -q --upgrade pip\n",
    "!pip install -q -r {CODE_FOLDER}/requirements.txt\n",
    "!pip install -q --upgrade nbformat\n"
   ]
  },
  {
   "cell_type": "markdown",
   "metadata": {},
   "source": [
    "## Docker Image for Apple M-series Chips\n",
    "\n",
    "If you are working on a Mac with an M-series of chips, you need to build a docker image with the required libraries to train the model. Comment the cell magic on the following cell and run it."
   ]
  },
  {
   "cell_type": "code",
   "execution_count": 7,
   "metadata": {},
   "outputs": [],
   "source": [
    "%%script false --no-raise-error\n",
    "\n",
    "!docker build -t sagemaker-tensorflow-training-toolkit-local container/."
   ]
  },
  {
   "cell_type": "code",
   "execution_count": null,
   "metadata": {},
   "outputs": [],
   "source": []
  }
 ],
 "metadata": {
  "kernelspec": {
   "display_name": ".venv",
   "language": "python",
   "name": "python3"
  },
  "language_info": {
   "codemirror_mode": {
    "name": "ipython",
    "version": 3
   },
   "file_extension": ".py",
   "mimetype": "text/x-python",
   "name": "python",
   "nbconvert_exporter": "python",
   "pygments_lexer": "ipython3",
   "version": "3.9.12"
  },
  "orig_nbformat": 4
 },
 "nbformat": 4,
 "nbformat_minor": 2
}
